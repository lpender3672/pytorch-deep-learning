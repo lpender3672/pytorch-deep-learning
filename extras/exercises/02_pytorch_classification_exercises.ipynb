{
  "cells": [
    {
      "cell_type": "markdown",
      "metadata": {
        "colab_type": "text",
        "id": "view-in-github"
      },
      "source": [
        "<a href=\"https://colab.research.google.com/github/mrdbourke/pytorch-deep-learning/blob/main/extras/exercises/02_pytorch_classification_exercises.ipynb\" target=\"_parent\"><img src=\"https://colab.research.google.com/assets/colab-badge.svg\" alt=\"Open In Colab\"/></a>"
      ]
    },
    {
      "cell_type": "markdown",
      "metadata": {
        "id": "ZKJFt7YxH8yl"
      },
      "source": [
        "# 02. PyTorch Classification Exercises\n",
        "\n",
        "The following is a template for 02. PyTorch Classification exercises.\n",
        "\n",
        "It's only starter code and it's your job to fill in the blanks.\n",
        "\n",
        "Because of the flexibility of PyTorch, there may be more than one way to answer the question.\n",
        "\n",
        "Don't worry about trying to be *right* just try writing code that suffices the question.\n",
        "\n",
        "## Resources\n",
        "* These exercises are based on [notebook 02 of the learn PyTorch course](https://www.learnpytorch.io/02_pytorch_classification/).\n",
        "* You can see one form of [solutions on GitHub](https://github.com/mrdbourke/pytorch-deep-learning/tree/main/extras/solutions) (but try the exercises below yourself first!)."
      ]
    },
    {
      "cell_type": "code",
      "execution_count": 302,
      "metadata": {
        "id": "CSrUPgapO0tf"
      },
      "outputs": [],
      "source": [
        "# Import torch\n",
        "import torch\n",
        "\n",
        "# Setup device agnostic code\n",
        "if not torch.cuda.is_available():\n",
        "    raise Exception\n",
        "\n",
        "# Setup random seed\n",
        "RANDOM_SEED = 42"
      ]
    },
    {
      "cell_type": "markdown",
      "metadata": {
        "id": "pH7jIZ2SPFee"
      },
      "source": [
        "## 1. Make a binary classification dataset with Scikit-Learn's [`make_moons()`](https://scikit-learn.org/stable/modules/generated/sklearn.datasets.make_moons.html) function.\n",
        "  * For consistency, the dataset should have 1000 samples and a `random_state=42`.\n",
        "  * Turn the data into PyTorch tensors. \n",
        "  * Split the data into training and test sets using `train_test_split` with 80% training and 20% testing."
      ]
    },
    {
      "cell_type": "code",
      "execution_count": 303,
      "metadata": {
        "id": "5t4VhPV1PX1X"
      },
      "outputs": [],
      "source": [
        "# Create a dataset with Scikit-Learn's make_moons()\n",
        "from sklearn.datasets import make_moons"
      ]
    },
    {
      "cell_type": "code",
      "execution_count": 304,
      "metadata": {
        "id": "SUeHZ3-3P9C7"
      },
      "outputs": [
        {
          "data": {
            "text/html": [
              "<div>\n",
              "<style scoped>\n",
              "    .dataframe tbody tr th:only-of-type {\n",
              "        vertical-align: middle;\n",
              "    }\n",
              "\n",
              "    .dataframe tbody tr th {\n",
              "        vertical-align: top;\n",
              "    }\n",
              "\n",
              "    .dataframe thead th {\n",
              "        text-align: right;\n",
              "    }\n",
              "</style>\n",
              "<table border=\"1\" class=\"dataframe\">\n",
              "  <thead>\n",
              "    <tr style=\"text-align: right;\">\n",
              "      <th></th>\n",
              "      <th>X0</th>\n",
              "      <th>X1</th>\n",
              "      <th>y</th>\n",
              "    </tr>\n",
              "  </thead>\n",
              "  <tbody>\n",
              "    <tr>\n",
              "      <th>0</th>\n",
              "      <td>-0.021371</td>\n",
              "      <td>0.406186</td>\n",
              "      <td>1.0</td>\n",
              "    </tr>\n",
              "    <tr>\n",
              "      <th>1</th>\n",
              "      <td>0.976700</td>\n",
              "      <td>-0.458323</td>\n",
              "      <td>1.0</td>\n",
              "    </tr>\n",
              "    <tr>\n",
              "      <th>2</th>\n",
              "      <td>0.904059</td>\n",
              "      <td>-0.376520</td>\n",
              "      <td>1.0</td>\n",
              "    </tr>\n",
              "    <tr>\n",
              "      <th>3</th>\n",
              "      <td>0.377363</td>\n",
              "      <td>-0.397037</td>\n",
              "      <td>1.0</td>\n",
              "    </tr>\n",
              "    <tr>\n",
              "      <th>4</th>\n",
              "      <td>-0.841926</td>\n",
              "      <td>0.530587</td>\n",
              "      <td>0.0</td>\n",
              "    </tr>\n",
              "    <tr>\n",
              "      <th>...</th>\n",
              "      <td>...</td>\n",
              "      <td>...</td>\n",
              "      <td>...</td>\n",
              "    </tr>\n",
              "    <tr>\n",
              "      <th>995</th>\n",
              "      <td>0.798055</td>\n",
              "      <td>0.573064</td>\n",
              "      <td>0.0</td>\n",
              "    </tr>\n",
              "    <tr>\n",
              "      <th>996</th>\n",
              "      <td>-0.145492</td>\n",
              "      <td>0.952211</td>\n",
              "      <td>0.0</td>\n",
              "    </tr>\n",
              "    <tr>\n",
              "      <th>997</th>\n",
              "      <td>1.662585</td>\n",
              "      <td>-0.307919</td>\n",
              "      <td>1.0</td>\n",
              "    </tr>\n",
              "    <tr>\n",
              "      <th>998</th>\n",
              "      <td>-0.943559</td>\n",
              "      <td>0.327894</td>\n",
              "      <td>0.0</td>\n",
              "    </tr>\n",
              "    <tr>\n",
              "      <th>999</th>\n",
              "      <td>0.794194</td>\n",
              "      <td>0.607772</td>\n",
              "      <td>0.0</td>\n",
              "    </tr>\n",
              "  </tbody>\n",
              "</table>\n",
              "<p>1000 rows × 3 columns</p>\n",
              "</div>"
            ],
            "text/plain": [
              "           X0        X1    y\n",
              "0   -0.021371  0.406186  1.0\n",
              "1    0.976700 -0.458323  1.0\n",
              "2    0.904059 -0.376520  1.0\n",
              "3    0.377363 -0.397037  1.0\n",
              "4   -0.841926  0.530587  0.0\n",
              "..        ...       ...  ...\n",
              "995  0.798055  0.573064  0.0\n",
              "996 -0.145492  0.952211  0.0\n",
              "997  1.662585 -0.307919  1.0\n",
              "998 -0.943559  0.327894  0.0\n",
              "999  0.794194  0.607772  0.0\n",
              "\n",
              "[1000 rows x 3 columns]"
            ]
          },
          "execution_count": 304,
          "metadata": {},
          "output_type": "execute_result"
        }
      ],
      "source": [
        "# Turn data into a DataFrame\n",
        "import pandas as pd\n",
        "import numpy as np\n",
        "\n",
        "X, y = make_moons(  n_samples=1000,\n",
        "                    noise = 0.05,\n",
        "                    random_state=RANDOM_SEED)\n",
        "\n",
        "X = torch.tensor(X, dtype=torch.float)\n",
        "y = torch.tensor(y, dtype=torch.float)\n",
        "\n",
        "df = pd.DataFrame(\n",
        "    {'X0' : X[:, 0], 'X1' : X[:,1], 'y' : y}\n",
        ")\n",
        "df"
      ]
    },
    {
      "cell_type": "code",
      "execution_count": 305,
      "metadata": {
        "id": "owrkPSFvQPFI"
      },
      "outputs": [
        {
          "data": {
            "text/plain": [
              "<matplotlib.collections.PathCollection at 0x29d9d7c3a00>"
            ]
          },
          "execution_count": 305,
          "metadata": {},
          "output_type": "execute_result"
        },
        {
          "data": {
            "image/png": "[encoded data removed]",
            "text/plain": [
              "<Figure size 640x480 with 1 Axes>"
            ]
          },
          "metadata": {},
          "output_type": "display_data"
        }
      ],
      "source": [
        "# Visualize the data on a scatter plot\n",
        "import matplotlib.pyplot as plt\n",
        "\n",
        "plt.scatter(df['X0'], df['X1'], c=y)"
      ]
    },
    {
      "cell_type": "code",
      "execution_count": 306,
      "metadata": {
        "id": "bDhyHn9fR4dq"
      },
      "outputs": [],
      "source": [
        "# Turn data into tensors of dtype float\n",
        "\n",
        "\n",
        "# Split the data into train and test sets (80% train, 20% test)\n",
        "from sklearn.model_selection import train_test_split\n",
        "\n",
        "X_train, X_test, y_train, y_test = train_test_split(X, \n",
        "                                                    y, \n",
        "                                                    test_size=0.2, # 20% test, 80% train\n",
        "                                                    random_state=RANDOM_SEED) # make the random split reproducible\n",
        "\n",
        "X_train, X_test, y_train, y_test = X_train.to('cuda'), X_test.to('cuda'), y_train.to('cuda'), y_test.to('cuda')"
      ]
    },
    {
      "cell_type": "markdown",
      "metadata": {
        "id": "cMIjxZdzQfPz"
      },
      "source": [
        "## 2. Build a model by subclassing `nn.Module` that incorporates non-linear activation functions and is capable of fitting the data you created in 1.\n",
        "  * Feel free to use any combination of PyTorch layers (linear and non-linear) you want."
      ]
    },
    {
      "cell_type": "code",
      "execution_count": 307,
      "metadata": {
        "id": "hwtyvm34Ri6Q"
      },
      "outputs": [],
      "source": [
        "import torch\n",
        "from torch import nn\n",
        "\n",
        "# Inherit from nn.Module to make a model capable of fitting the mooon data\n",
        "class MoonModelV0(nn.Module):\n",
        "    ## Your code here ##\n",
        "    def __init__(self, n_hidden):\n",
        "        super().__init__()\n",
        "        self.layer1 = nn.Linear(in_features=2, \n",
        "                                    out_features=n_hidden)\n",
        "        self.layer2 = nn.Linear(in_features=n_hidden, \n",
        "                                    out_features=n_hidden)\n",
        "        self.layer3 = nn.Linear(in_features=n_hidden,\n",
        "                                out_features=1)\n",
        "        self.relu = nn.ReLU()\n",
        "\n",
        "    def forward(self, x):\n",
        "        return self.layer3(self.relu(self.layer2(self.relu(self.layer1(x)))))\n",
        "\n",
        "# Instantiate the model\n",
        "## Your code here ##\n",
        "\n",
        "model_2 = MoonModelV0(8).to('cuda')"
      ]
    },
    {
      "cell_type": "markdown",
      "metadata": {
        "id": "DSj97RwyVeFE"
      },
      "source": [
        "## 3. Setup a binary classification compatible loss function and optimizer to use when training the model built in 2."
      ]
    },
    {
      "cell_type": "code",
      "execution_count": 308,
      "metadata": {
        "id": "whSGw5qgVvxU"
      },
      "outputs": [],
      "source": [
        "# Setup loss function\n",
        "loss_fn = nn.CrossEntropyLoss()\n",
        "\n",
        "# Setup optimizer to optimize model's parameters\n",
        "optimizer = torch.optim.Adam(model_2.parameters(),\n",
        "                             lr=0.02)"
      ]
    },
    {
      "cell_type": "markdown",
      "metadata": {
        "id": "nvk4PfNTWUAt"
      },
      "source": [
        "## 4. Create a training and testing loop to fit the model you created in 2 to the data you created in 1.\n",
        "  * Do a forward pass of the model to see what's coming out in the form of logits, prediction probabilities and labels.\n",
        "  * To measure model accuray, you can create your own accuracy function or use the accuracy function in [TorchMetrics](https://torchmetrics.readthedocs.io/en/latest/).\n",
        "  * Train the model for long enough for it to reach over 96% accuracy.\n",
        "  * The training loop should output progress every 10 epochs of the model's training and test set loss and accuracy."
      ]
    },
    {
      "cell_type": "code",
      "execution_count": 309,
      "metadata": {
        "colab": {
          "base_uri": "https://localhost:8080/"
        },
        "id": "AgnFdlamd2-D",
        "outputId": "627d8c33-071e-4925-f18b-5d5ba6126729"
      },
      "outputs": [
        {
          "name": "stdout",
          "output_type": "stream",
          "text": [
            "Logits:\n",
            "tensor([[ 0.0330],\n",
            "        [ 0.0326],\n",
            "        [-0.0033],\n",
            "        [ 0.0324],\n",
            "        [ 0.0005],\n",
            "        [ 0.0014],\n",
            "        [ 0.0334],\n",
            "        [ 0.0300],\n",
            "        [-0.0074],\n",
            "        [ 0.0276],\n",
            "        [ 0.0262],\n",
            "        [ 0.0322],\n",
            "        [ 0.0344],\n",
            "        [-0.0026],\n",
            "        [ 0.0169],\n",
            "        [ 0.0216],\n",
            "        [ 0.0219],\n",
            "        [ 0.0242],\n",
            "        [ 0.0231],\n",
            "        [ 0.0212],\n",
            "        [ 0.0309],\n",
            "        [ 0.0066],\n",
            "        [ 0.0174],\n",
            "        [ 0.0189],\n",
            "        [ 0.0260],\n",
            "        [ 0.0285],\n",
            "        [ 0.0167],\n",
            "        [ 0.0083],\n",
            "        [ 0.0180],\n",
            "        [-0.0017],\n",
            "        [ 0.0162],\n",
            "        [ 0.0281],\n",
            "        [ 0.0223],\n",
            "        [-0.0001],\n",
            "        [ 0.0265],\n",
            "        [ 0.0248],\n",
            "        [ 0.0282],\n",
            "        [-0.0030],\n",
            "        [-0.0005],\n",
            "        [-0.0023],\n",
            "        [ 0.0177],\n",
            "        [-0.0013],\n",
            "        [ 0.0198],\n",
            "        [ 0.0110],\n",
            "        [ 0.0231],\n",
            "        [ 0.0216],\n",
            "        [ 0.0104],\n",
            "        [ 0.0322],\n",
            "        [ 0.0249],\n",
            "        [ 0.0014],\n",
            "        [ 0.0250],\n",
            "        [ 0.0264],\n",
            "        [ 0.0085],\n",
            "        [ 0.0126],\n",
            "        [ 0.0174],\n",
            "        [ 0.0144],\n",
            "        [ 0.0183],\n",
            "        [-0.0032],\n",
            "        [ 0.0102],\n",
            "        [ 0.0192],\n",
            "        [ 0.0007],\n",
            "        [ 0.0291],\n",
            "        [ 0.0220],\n",
            "        [-0.0023],\n",
            "        [ 0.0327],\n",
            "        [ 0.0245],\n",
            "        [ 0.0156],\n",
            "        [ 0.0056],\n",
            "        [ 0.0272],\n",
            "        [ 0.0062],\n",
            "        [ 0.0016],\n",
            "        [ 0.0305],\n",
            "        [ 0.0210],\n",
            "        [-0.0016],\n",
            "        [ 0.0197],\n",
            "        [ 0.0030],\n",
            "        [-0.0004],\n",
            "        [ 0.0294],\n",
            "        [ 0.0241],\n",
            "        [ 0.0205],\n",
            "        [ 0.0242],\n",
            "        [ 0.0352],\n",
            "        [ 0.0263],\n",
            "        [-0.0008],\n",
            "        [ 0.0138],\n",
            "        [ 0.0215],\n",
            "        [ 0.0094],\n",
            "        [ 0.0142],\n",
            "        [ 0.0137],\n",
            "        [ 0.0073],\n",
            "        [-0.0031],\n",
            "        [-0.0002],\n",
            "        [-0.0004],\n",
            "        [ 0.0004],\n",
            "        [-0.0031],\n",
            "        [ 0.0238],\n",
            "        [ 0.0235],\n",
            "        [ 0.0047],\n",
            "        [ 0.0222],\n",
            "        [ 0.0002],\n",
            "        [ 0.0337],\n",
            "        [ 0.0192],\n",
            "        [ 0.0244],\n",
            "        [ 0.0181],\n",
            "        [ 0.0222],\n",
            "        [ 0.0145],\n",
            "        [-0.0010],\n",
            "        [ 0.0312],\n",
            "        [ 0.0149],\n",
            "        [ 0.0199],\n",
            "        [ 0.0295],\n",
            "        [ 0.0210],\n",
            "        [ 0.0278],\n",
            "        [ 0.0011],\n",
            "        [ 0.0223],\n",
            "        [ 0.0131],\n",
            "        [-0.0019],\n",
            "        [ 0.0138],\n",
            "        [-0.0011],\n",
            "        [ 0.0156],\n",
            "        [ 0.0138],\n",
            "        [ 0.0135],\n",
            "        [ 0.0084],\n",
            "        [ 0.0151],\n",
            "        [ 0.0025],\n",
            "        [ 0.0134],\n",
            "        [-0.0031],\n",
            "        [ 0.0213],\n",
            "        [ 0.0291],\n",
            "        [ 0.0168],\n",
            "        [ 0.0105],\n",
            "        [ 0.0314],\n",
            "        [-0.0002],\n",
            "        [ 0.0294],\n",
            "        [ 0.0287],\n",
            "        [ 0.0293],\n",
            "        [ 0.0002],\n",
            "        [ 0.0173],\n",
            "        [ 0.0207],\n",
            "        [ 0.0224],\n",
            "        [ 0.0165],\n",
            "        [ 0.0323],\n",
            "        [ 0.0233],\n",
            "        [-0.0030],\n",
            "        [ 0.0166],\n",
            "        [ 0.0121],\n",
            "        [ 0.0172],\n",
            "        [ 0.0111],\n",
            "        [ 0.0172],\n",
            "        [ 0.0308],\n",
            "        [ 0.0025],\n",
            "        [ 0.0265],\n",
            "        [ 0.0005],\n",
            "        [ 0.0163],\n",
            "        [ 0.0187],\n",
            "        [ 0.0236],\n",
            "        [ 0.0172],\n",
            "        [ 0.0167],\n",
            "        [ 0.0205],\n",
            "        [ 0.0040],\n",
            "        [ 0.0276],\n",
            "        [ 0.0281],\n",
            "        [-0.0020],\n",
            "        [ 0.0253],\n",
            "        [ 0.0216],\n",
            "        [ 0.0109],\n",
            "        [ 0.0279],\n",
            "        [ 0.0167],\n",
            "        [ 0.0086],\n",
            "        [ 0.0210],\n",
            "        [ 0.0186],\n",
            "        [ 0.0204],\n",
            "        [ 0.0180],\n",
            "        [ 0.0078],\n",
            "        [ 0.0313],\n",
            "        [ 0.0090],\n",
            "        [ 0.0119],\n",
            "        [ 0.0270],\n",
            "        [ 0.0174],\n",
            "        [ 0.0111],\n",
            "        [ 0.0100],\n",
            "        [-0.0004],\n",
            "        [ 0.0294],\n",
            "        [-0.0022],\n",
            "        [ 0.0145],\n",
            "        [ 0.0236],\n",
            "        [ 0.0277],\n",
            "        [ 0.0286],\n",
            "        [ 0.0292],\n",
            "        [ 0.0007],\n",
            "        [ 0.0207],\n",
            "        [-0.0030],\n",
            "        [ 0.0180],\n",
            "        [ 0.0318],\n",
            "        [-0.0021],\n",
            "        [ 0.0261],\n",
            "        [ 0.0099],\n",
            "        [ 0.0058],\n",
            "        [ 0.0157],\n",
            "        [ 0.0180]], device='cuda:0', grad_fn=<AddmmBackward0>)\n",
            "Pred probs:\n",
            "tensor([[ 0.0330],\n",
            "        [ 0.0326],\n",
            "        [-0.0033],\n",
            "        [ 0.0324],\n",
            "        [ 0.0005],\n",
            "        [ 0.0014],\n",
            "        [ 0.0334],\n",
            "        [ 0.0300],\n",
            "        [-0.0074],\n",
            "        [ 0.0276],\n",
            "        [ 0.0262],\n",
            "        [ 0.0322],\n",
            "        [ 0.0344],\n",
            "        [-0.0026],\n",
            "        [ 0.0169],\n",
            "        [ 0.0216],\n",
            "        [ 0.0219],\n",
            "        [ 0.0242],\n",
            "        [ 0.0231],\n",
            "        [ 0.0212],\n",
            "        [ 0.0309],\n",
            "        [ 0.0066],\n",
            "        [ 0.0174],\n",
            "        [ 0.0189],\n",
            "        [ 0.0260],\n",
            "        [ 0.0285],\n",
            "        [ 0.0167],\n",
            "        [ 0.0083],\n",
            "        [ 0.0180],\n",
            "        [-0.0017],\n",
            "        [ 0.0162],\n",
            "        [ 0.0281],\n",
            "        [ 0.0223],\n",
            "        [-0.0001],\n",
            "        [ 0.0265],\n",
            "        [ 0.0248],\n",
            "        [ 0.0282],\n",
            "        [-0.0030],\n",
            "        [-0.0005],\n",
            "        [-0.0023],\n",
            "        [ 0.0177],\n",
            "        [-0.0013],\n",
            "        [ 0.0198],\n",
            "        [ 0.0110],\n",
            "        [ 0.0231],\n",
            "        [ 0.0216],\n",
            "        [ 0.0104],\n",
            "        [ 0.0322],\n",
            "        [ 0.0249],\n",
            "        [ 0.0014],\n",
            "        [ 0.0250],\n",
            "        [ 0.0264],\n",
            "        [ 0.0085],\n",
            "        [ 0.0126],\n",
            "        [ 0.0174],\n",
            "        [ 0.0144],\n",
            "        [ 0.0183],\n",
            "        [-0.0032],\n",
            "        [ 0.0102],\n",
            "        [ 0.0192],\n",
            "        [ 0.0007],\n",
            "        [ 0.0291],\n",
            "        [ 0.0220],\n",
            "        [-0.0023],\n",
            "        [ 0.0327],\n",
            "        [ 0.0245],\n",
            "        [ 0.0156],\n",
            "        [ 0.0056],\n",
            "        [ 0.0272],\n",
            "        [ 0.0062],\n",
            "        [ 0.0016],\n",
            "        [ 0.0305],\n",
            "        [ 0.0210],\n",
            "        [-0.0016],\n",
            "        [ 0.0197],\n",
            "        [ 0.0030],\n",
            "        [-0.0004],\n",
            "        [ 0.0294],\n",
            "        [ 0.0241],\n",
            "        [ 0.0205],\n",
            "        [ 0.0242],\n",
            "        [ 0.0352],\n",
            "        [ 0.0263],\n",
            "        [-0.0008],\n",
            "        [ 0.0138],\n",
            "        [ 0.0215],\n",
            "        [ 0.0094],\n",
            "        [ 0.0142],\n",
            "        [ 0.0137],\n",
            "        [ 0.0073],\n",
            "        [-0.0031],\n",
            "        [-0.0002],\n",
            "        [-0.0004],\n",
            "        [ 0.0004],\n",
            "        [-0.0031],\n",
            "        [ 0.0238],\n",
            "        [ 0.0235],\n",
            "        [ 0.0047],\n",
            "        [ 0.0222],\n",
            "        [ 0.0002],\n",
            "        [ 0.0337],\n",
            "        [ 0.0192],\n",
            "        [ 0.0244],\n",
            "        [ 0.0181],\n",
            "        [ 0.0222],\n",
            "        [ 0.0145],\n",
            "        [-0.0010],\n",
            "        [ 0.0312],\n",
            "        [ 0.0149],\n",
            "        [ 0.0199],\n",
            "        [ 0.0295],\n",
            "        [ 0.0210],\n",
            "        [ 0.0278],\n",
            "        [ 0.0011],\n",
            "        [ 0.0223],\n",
            "        [ 0.0131],\n",
            "        [-0.0019],\n",
            "        [ 0.0138],\n",
            "        [-0.0011],\n",
            "        [ 0.0156],\n",
            "        [ 0.0138],\n",
            "        [ 0.0135],\n",
            "        [ 0.0084],\n",
            "        [ 0.0151],\n",
            "        [ 0.0025],\n",
            "        [ 0.0134],\n",
            "        [-0.0031],\n",
            "        [ 0.0213],\n",
            "        [ 0.0291],\n",
            "        [ 0.0168],\n",
            "        [ 0.0105],\n",
            "        [ 0.0314],\n",
            "        [-0.0002],\n",
            "        [ 0.0294],\n",
            "        [ 0.0287],\n",
            "        [ 0.0293],\n",
            "        [ 0.0002],\n",
            "        [ 0.0173],\n",
            "        [ 0.0207],\n",
            "        [ 0.0224],\n",
            "        [ 0.0165],\n",
            "        [ 0.0323],\n",
            "        [ 0.0233],\n",
            "        [-0.0030],\n",
            "        [ 0.0166],\n",
            "        [ 0.0121],\n",
            "        [ 0.0172],\n",
            "        [ 0.0111],\n",
            "        [ 0.0172],\n",
            "        [ 0.0308],\n",
            "        [ 0.0025],\n",
            "        [ 0.0265],\n",
            "        [ 0.0005],\n",
            "        [ 0.0163],\n",
            "        [ 0.0187],\n",
            "        [ 0.0236],\n",
            "        [ 0.0172],\n",
            "        [ 0.0167],\n",
            "        [ 0.0205],\n",
            "        [ 0.0040],\n",
            "        [ 0.0276],\n",
            "        [ 0.0281],\n",
            "        [-0.0020],\n",
            "        [ 0.0253],\n",
            "        [ 0.0216],\n",
            "        [ 0.0109],\n",
            "        [ 0.0279],\n",
            "        [ 0.0167],\n",
            "        [ 0.0086],\n",
            "        [ 0.0210],\n",
            "        [ 0.0186],\n",
            "        [ 0.0204],\n",
            "        [ 0.0180],\n",
            "        [ 0.0078],\n",
            "        [ 0.0313],\n",
            "        [ 0.0090],\n",
            "        [ 0.0119],\n",
            "        [ 0.0270],\n",
            "        [ 0.0174],\n",
            "        [ 0.0111],\n",
            "        [ 0.0100],\n",
            "        [-0.0004],\n",
            "        [ 0.0294],\n",
            "        [-0.0022],\n",
            "        [ 0.0145],\n",
            "        [ 0.0236],\n",
            "        [ 0.0277],\n",
            "        [ 0.0286],\n",
            "        [ 0.0292],\n",
            "        [ 0.0007],\n",
            "        [ 0.0207],\n",
            "        [-0.0030],\n",
            "        [ 0.0180],\n",
            "        [ 0.0318],\n",
            "        [-0.0021],\n",
            "        [ 0.0261],\n",
            "        [ 0.0099],\n",
            "        [ 0.0058],\n",
            "        [ 0.0157],\n",
            "        [ 0.0180]], device='cuda:0', grad_fn=<AddmmBackward0>)\n",
            "Pred labels:\n"
          ]
        }
      ],
      "source": [
        "# What's coming out of our model?\n",
        "\n",
        "# logits (raw outputs of model)\n",
        "print(\"Logits:\")\n",
        "## Your code here ##\n",
        "print(model_2(X_test))\n",
        "\n",
        "# Prediction probabilities\n",
        "print(\"Pred probs:\")\n",
        "## Your code here ##\n",
        "print(model_2(X_test))\n",
        "\n",
        "# Prediction labels\n",
        "print(\"Pred labels:\")\n",
        "## Your code here ##"
      ]
    },
    {
      "cell_type": "code",
      "execution_count": 310,
      "metadata": {
        "id": "rUSDNHB4euoJ"
      },
      "outputs": [
        {
          "name": "stderr",
          "output_type": "stream",
          "text": [
            "'pip' is not recognized as an internal or external command,\n",
            "operable program or batch file.\n"
          ]
        },
        {
          "data": {
            "text/plain": [
              "MulticlassAccuracy()"
            ]
          },
          "execution_count": 310,
          "metadata": {},
          "output_type": "execute_result"
        }
      ],
      "source": [
        "# Let's calculuate the accuracy using accuracy from TorchMetrics\n",
        "!pip -q install torchmetrics # Colab doesn't come with torchmetrics\n",
        "from torchmetrics import Accuracy\n",
        "\n",
        "## TODO: Uncomment this code to use the Accuracy function\n",
        "acc_fn = Accuracy(task=\"multiclass\", num_classes=2).to('cuda') # send accuracy function to device\n",
        "acc_fn"
      ]
    },
    {
      "cell_type": "code",
      "execution_count": 311,
      "metadata": {
        "id": "SHBY3h7XXnxt"
      },
      "outputs": [
        {
          "name": "stdout",
          "output_type": "stream",
          "text": [
            "on epoch 0 test loss is 527.640380859375\n",
            "on epoch 100 test loss is 463.2398681640625\n",
            "on epoch 200 test loss is 461.7998962402344\n",
            "on epoch 300 test loss is 461.1721496582031\n",
            "on epoch 400 test loss is 460.92364501953125\n",
            "on epoch 500 test loss is 460.8423156738281\n",
            "on epoch 600 test loss is 460.7796936035156\n",
            "on epoch 700 test loss is 460.7216796875\n",
            "on epoch 800 test loss is 460.73602294921875\n",
            "on epoch 900 test loss is 460.7068176269531\n"
          ]
        }
      ],
      "source": [
        "## TODO: Uncomment this to set the seed\n",
        "torch.manual_seed(RANDOM_SEED)\n",
        "\n",
        "# Setup epochs\n",
        "EPOCHS = 1000\n",
        "\n",
        "# Send data to the device\n",
        "\n",
        "\n",
        "# Loop through the data\n",
        "for epoch in range(EPOCHS):\n",
        "  ### Training\n",
        "  \n",
        "  model_2.train()\n",
        "  # 1. Forward pass\n",
        "  y_logits = model_2(X_train).squeeze()\n",
        "  y_pred_probs = torch.sigmoid(y_logits)\n",
        "  y_pred = torch.round(y_pred_probs)\n",
        "\n",
        "  loss = loss_fn(y_logits, # Using nn.BCEWithLogitsLoss works with raw logits\n",
        "                   y_train) \n",
        "\n",
        "\n",
        "  # Calculate the accuracy\n",
        "  acc = acc_fn(y_pred, y_train.int()) # the accuracy function needs to compare pred labels (not logits) with actual labels\n",
        "\n",
        "  # 3. Zero the gradients\n",
        "  optimizer.zero_grad()\n",
        "\n",
        "  # 4. Loss backward (perform backpropagation) - https://brilliant.org/wiki/backpropagation/#:~:text=Backpropagation%2C%20short%20for%20%22backward%20propagation,to%20the%20neural%20network's%20weights.\n",
        "  loss.backward()\n",
        "\n",
        "  # 5. Step the optimizer (gradient descent) - https://towardsdatascience.com/gradient-descent-algorithm-a-deep-dive-cf04e8115f21#:~:text=Gradient%20descent%20(GD)%20is%20an,e.g.%20in%20a%20linear%20regression) \n",
        "  optimizer.step()\n",
        "\n",
        "  ### Testing\n",
        "  model_2.eval() \n",
        "  with torch.inference_mode():\n",
        "    # 1. Forward pass (to get the logits)\n",
        "    test_logits = model_2(X_test).squeeze()\n",
        "    test_pred = torch.round(torch.sigmoid(test_logits))\n",
        "    # 2. Caculate the loss/acc\n",
        "    test_loss = loss_fn(test_logits, y_test)\n",
        "    test_acc = acc_fn(test_pred, y_test.int())     \n",
        "\n",
        "  # Print out what's happening every 100 epochs\n",
        "  if epoch % 100 == 0:\n",
        "    print(f'on epoch {epoch} test loss is {test_loss}')\n",
        "    "
      ]
    },
    {
      "cell_type": "markdown",
      "metadata": {
        "id": "8Nwihtomj9JO"
      },
      "source": [
        "## 5. Make predictions with your trained model and plot them using the `plot_decision_boundary()` function created in this notebook."
      ]
    },
    {
      "cell_type": "code",
      "execution_count": 312,
      "metadata": {
        "id": "0YRzatb8a1P2"
      },
      "outputs": [],
      "source": [
        "# Plot the model predictions\n",
        "import numpy as np\n",
        "\n",
        "def plot_decision_boundary(model, X, y):\n",
        "  \n",
        "    # Put everything to CPU (works better with NumPy + Matplotlib)\n",
        "    model.to(\"cpu\")\n",
        "    X, y = X.to(\"cpu\"), y.to(\"cpu\")\n",
        "\n",
        "    # Source - https://madewithml.com/courses/foundations/neural-networks/ \n",
        "    # (with modifications)\n",
        "    x_min, x_max = X[:, 0].min() - 0.1, X[:, 0].max() + 0.1\n",
        "    y_min, y_max = X[:, 1].min() - 0.1, X[:, 1].max() + 0.1\n",
        "    xx, yy = np.meshgrid(np.linspace(x_min, x_max, 101), \n",
        "                         np.linspace(y_min, y_max, 101))\n",
        "\n",
        "    # Make features\n",
        "    X_to_pred_on = torch.from_numpy(np.column_stack((xx.ravel(), yy.ravel()))).float()\n",
        "\n",
        "    # Make predictions\n",
        "    model.eval()\n",
        "    with torch.inference_mode():\n",
        "        y_logits = model(X_to_pred_on)\n",
        "\n",
        "    # Test for multi-class or binary and adjust logits to prediction labels\n",
        "    if len(torch.unique(y)) > 2:\n",
        "        y_pred = torch.softmax(y_logits, dim=1).argmax(dim=1) # mutli-class\n",
        "    else: \n",
        "        y_pred = torch.round(torch.sigmoid(y_logits)) # binary\n",
        "    \n",
        "    # Reshape preds and plot\n",
        "    y_pred = y_pred.reshape(xx.shape).detach().numpy()\n",
        "    plt.contourf(xx, yy, y_pred, cmap=plt.cm.RdYlBu, alpha=0.7)\n",
        "    plt.scatter(X[:, 0], X[:, 1], c=y, s=40, cmap=plt.cm.RdYlBu)\n",
        "    plt.xlim(xx.min(), xx.max())\n",
        "    plt.ylim(yy.min(), yy.max())"
      ]
    },
    {
      "cell_type": "code",
      "execution_count": 313,
      "metadata": {
        "id": "PMrcpyirig1d"
      },
      "outputs": [
        {
          "data": {
            "image/png": "[encoded data removed]",
            "text/plain": [
              "<Figure size 640x480 with 1 Axes>"
            ]
          },
          "metadata": {},
          "output_type": "display_data"
        }
      ],
      "source": [
        "# Plot decision boundaries for training and test sets\n",
        "\n",
        "plot_decision_boundary(model_2, X, y)"
      ]
    },
    {
      "cell_type": "markdown",
      "metadata": {
        "id": "EtMYBvtciiAU"
      },
      "source": [
        "## 6. Replicate the Tanh (hyperbolic tangent) activation function in pure PyTorch.\n",
        "  * Feel free to reference the [ML cheatsheet website](https://ml-cheatsheet.readthedocs.io/en/latest/activation_functions.html#tanh) for the formula."
      ]
    },
    {
      "cell_type": "code",
      "execution_count": 314,
      "metadata": {
        "id": "BlXaWC5TkEUE"
      },
      "outputs": [],
      "source": [
        "# Create a straight line tensor\n"
      ]
    },
    {
      "cell_type": "code",
      "execution_count": 315,
      "metadata": {
        "id": "vZPCcQmIkZjO"
      },
      "outputs": [],
      "source": [
        "# Test torch.tanh() on the tensor and plot it\n"
      ]
    },
    {
      "cell_type": "code",
      "execution_count": 316,
      "metadata": {
        "id": "J-ne__Kjkdc1"
      },
      "outputs": [],
      "source": [
        "# Replicate torch.tanh() and plot it\n"
      ]
    },
    {
      "cell_type": "markdown",
      "metadata": {
        "id": "Lbt1bNcWk5G9"
      },
      "source": [
        "## 7. Create a multi-class dataset using the [spirals data creation function from CS231n](https://cs231n.github.io/neural-networks-case-study/) (see below for the code).\n",
        "  * Split the data into training and test sets (80% train, 20% test) as well as turn it into PyTorch tensors.\n",
        "  * Construct a model capable of fitting the data (you may need a combination of linear and non-linear layers).\n",
        "  * Build a loss function and optimizer capable of handling multi-class data (optional extension: use the Adam optimizer instead of SGD, you may have to experiment with different values of the learning rate to get it working).\n",
        "  * Make a training and testing loop for the multi-class data and train a model on it to reach over 95% testing accuracy (you can use any accuracy measuring function here that you like) - 1000 epochs should be plenty.\n",
        "  * Plot the decision boundaries on the spirals dataset from your model predictions, the `plot_decision_boundary()` function should work for this dataset too."
      ]
    },
    {
      "cell_type": "code",
      "execution_count": 317,
      "metadata": {
        "colab": {
          "base_uri": "https://localhost:8080/",
          "height": 265
        },
        "id": "tU-UNZsKlJls",
        "outputId": "8b7b745a-070d-4ecb-c639-c4ee4d8eae06"
      },
      "outputs": [
        {
          "data": {
            "image/png": "[encoded data removed]",
            "text/plain": [
              "<Figure size 640x480 with 1 Axes>"
            ]
          },
          "metadata": {},
          "output_type": "display_data"
        }
      ],
      "source": [
        "# Code for creating a spiral dataset from CS231n\n",
        "import numpy as np\n",
        "import matplotlib.pyplot as plt\n",
        "RANDOM_SEED = 42\n",
        "np.random.seed(RANDOM_SEED)\n",
        "N = 100 # number of points per class\n",
        "D = 2 # dimensionality\n",
        "K = 3 # number of classes\n",
        "X = np.zeros((N*K,D)) # data matrix (each row = single example)\n",
        "y = np.zeros(N*K, dtype='uint8') # class labels\n",
        "for j in range(K):\n",
        "  ix = range(N*j,N*(j+1))\n",
        "  r = np.linspace(0.0,1,N) # radius\n",
        "  t = np.linspace(j*4,(j+1)*4,N) + np.random.randn(N)*0.2 # theta\n",
        "  X[ix] = np.c_[r*np.sin(t), r*np.cos(t)]\n",
        "  y[ix] = j\n",
        "# lets visualize the data\n",
        "plt.scatter(X[:, 0], X[:, 1], c=y, s=40, cmap=plt.cm.RdYlBu)\n",
        "plt.show()"
      ]
    },
    {
      "cell_type": "code",
      "execution_count": 318,
      "metadata": {
        "id": "OWVrmkEyl0VP"
      },
      "outputs": [],
      "source": [
        "# Turn data into tensors\n",
        "import torch\n",
        "X = torch.from_numpy(X).type(torch.float) # features as float32\n",
        "y = torch.from_numpy(y).type(torch.LongTensor) # labels need to be of type long\n",
        "\n",
        "# Create train and test splits\n",
        "from sklearn.model_selection import train_test_split\n"
      ]
    },
    {
      "cell_type": "code",
      "execution_count": 319,
      "metadata": {
        "id": "a-v-7f0op0tG"
      },
      "outputs": [
        {
          "name": "stderr",
          "output_type": "stream",
          "text": [
            "'pip' is not recognized as an internal or external command,\n",
            "operable program or batch file.\n"
          ]
        }
      ],
      "source": [
        "# Let's calculuate the accuracy for when we fit our model\n",
        "!pip -q install torchmetrics # colab doesn't come with torchmetrics\n",
        "from torchmetrics import Accuracy\n",
        "\n",
        "## TODO: uncomment the two lines below to send the accuracy function to the device\n",
        "# acc_fn = Accuracy(task=\"multiclass\", num_classes=4).to(device)\n",
        "# acc_fn"
      ]
    },
    {
      "cell_type": "code",
      "execution_count": 320,
      "metadata": {
        "id": "DB3u3ldumapf"
      },
      "outputs": [],
      "source": [
        "# Prepare device agnostic code\n",
        "# device = \"cuda\" if torch.cuda.is_available() else \"cpu\"\n",
        "\n",
        "# Create model by subclassing nn.Module\n",
        "\n",
        "\n",
        "\n",
        "# Instantiate model and send it to device\n"
      ]
    },
    {
      "cell_type": "code",
      "execution_count": 321,
      "metadata": {
        "colab": {
          "base_uri": "https://localhost:8080/"
        },
        "id": "QE7XWSSunMTS",
        "outputId": "00b31909-87c9-41e3-9dbb-fb4c4bd3aabd"
      },
      "outputs": [
        {
          "name": "stdout",
          "output_type": "stream",
          "text": [
            "Logits:\n",
            "Pred probs:\n",
            "Pred labels:\n"
          ]
        }
      ],
      "source": [
        "# Setup data to be device agnostic\n",
        "\n",
        "\n",
        "# Print out first 10 untrained model outputs (forward pass)\n",
        "print(\"Logits:\")\n",
        "## Your code here ##\n",
        "\n",
        "print(\"Pred probs:\")\n",
        "## Your code here ##\n",
        "\n",
        "print(\"Pred labels:\")\n",
        "## Your code here ##"
      ]
    },
    {
      "cell_type": "code",
      "execution_count": 322,
      "metadata": {
        "id": "54EqLRKLo0AW"
      },
      "outputs": [],
      "source": [
        "# Setup loss function and optimizer\n",
        "# loss_fn =\n",
        "# optimizer = "
      ]
    },
    {
      "cell_type": "code",
      "execution_count": 323,
      "metadata": {
        "id": "vIlExkUHnmxi"
      },
      "outputs": [],
      "source": [
        "# Build a training loop for the model\n",
        "\n",
        "# Loop over data\n",
        "\n",
        "\n",
        "  ## Training\n",
        "  \n",
        "  # 1. Forward pass\n",
        "  \n",
        "\n",
        "  # 2. Calculate the loss\n",
        "  \n",
        "  \n",
        "  # 3. Optimizer zero grad\n",
        "  \n",
        "\n",
        "  # 4. Loss backward\n",
        "  \n",
        "\n",
        "  # 5. Optimizer step\n",
        "  \n",
        "\n",
        "  ## Testing\n",
        "  \n",
        "\n",
        "    # 1. Forward pass\n",
        "    \n",
        "    # 2. Caculate loss and acc\n",
        "    \n",
        "  # Print out what's happening every 100 epochs\n",
        "  "
      ]
    },
    {
      "cell_type": "code",
      "execution_count": 324,
      "metadata": {
        "id": "JrwVRbaE0keT"
      },
      "outputs": [],
      "source": [
        "# Plot decision boundaries for training and test sets\n"
      ]
    }
  ],
  "metadata": {
    "accelerator": "GPU",
    "colab": {
      "authorship_tag": "ABX9TyNloicnciRwCXd2bJo6F2iS",
      "collapsed_sections": [],
      "include_colab_link": true,
      "name": "02_pytorch_classification_exercises.ipynb",
      "provenance": []
    },
    "kernelspec": {
      "display_name": "Python 3",
      "name": "python3"
    },
    "language_info": {
      "codemirror_mode": {
        "name": "ipython",
        "version": 3
      },
      "file_extension": ".py",
      "mimetype": "text/x-python",
      "name": "python",
      "nbconvert_exporter": "python",
      "pygments_lexer": "ipython3",
      "version": "3.10.8"
    }
  },
  "nbformat": 4,
  "nbformat_minor": 0
}
